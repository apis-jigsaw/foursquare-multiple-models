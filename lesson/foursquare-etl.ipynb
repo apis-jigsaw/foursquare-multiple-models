{
 "cells": [
  {
   "cell_type": "markdown",
   "metadata": {},
   "source": [
    "# Foursquare Adapter ORM Flask"
   ]
  },
  {
   "cell_type": "markdown",
   "metadata": {},
   "source": [
    "### Introduction"
   ]
  },
  {
   "cell_type": "markdown",
   "metadata": {},
   "source": [
    "So now that we've seen how we can use the adapter pattern to create instances.  Let's take the next step of saving each of these instances to the database.  To do this we'll first connect our models -- here, our Venue class -- to the database.  Then, from there, when we pull our records from the API, and then create the corresponding venue instances, we can simply use our `save` methods, to store each of those instances in the database.\n",
    "\n",
    "Ok, let's get started."
   ]
  },
  {
   "cell_type": "markdown",
   "metadata": {},
   "source": [
    "### Building the Models"
   ]
  },
  {
   "cell_type": "markdown",
   "metadata": {},
   "source": [
    "You can ensure that the database is properly setup by creating a database called `foursquare_development` and `foursquare_test`, and run the migrations in `migrations/create_tables.sql` to create the tables in both databases.\n",
    "\n",
    "> If you already have these databases created, it's probably a good idea to recreate the databases to ensure that the tables are up to date."
   ]
  },
  {
   "cell_type": "markdown",
   "metadata": {},
   "source": [
    "* Setting up `conn` objects"
   ]
  },
  {
   "cell_type": "markdown",
   "metadata": {},
   "source": [
    "From there, we will need to create a connection to the database.  If you look at the `api/lib/db.py` file, you can see that we have both the `test_conn` and `test_cursor` objects.  But to create those objects, it relies on variables in the `settings` module.  \n",
    "\n",
    "Set up the `settings` module, declaring the `DB_USER`, `DB_NAME`, `TEST_DB_NAME`, and `TEST_DB_USER` constants in the file.  These constants should pull information from a `.env` file."
   ]
  },
  {
   "cell_type": "markdown",
   "metadata": {},
   "source": [
    "* Connecting our model"
   ]
  },
  {
   "cell_type": "markdown",
   "metadata": {},
   "source": [
    "Once we have our database set up, let's connect our Venue class to the database.  If you navigate to the `tests/models/test_venue.py` file, you can see that we added a few new tests.  Mainly, we want to have the ability to initialize data with key value pairs (via mass assigment), and then save the data in the database.\n",
    "\n",
    "Set up the venue model accordingly so that we can save a venue instance to the database.  when it works properly, the corresponding test should pass."
   ]
  },
  {
   "cell_type": "markdown",
   "metadata": {},
   "source": [
    "### Connecting ETL to the Database"
   ]
  },
  {
   "cell_type": "markdown",
   "metadata": {},
   "source": [
    "So now we have the ability to create a new Venue instance, and save it to the database.  The next step is to update our ETL pattern, so that after pulling data from the external API, and creating a new venue instance from that data, it then saves that data into the database."
   ]
  },
  {
   "cell_type": "markdown",
   "metadata": {},
   "source": [
    "Think about how we can accomplish this.  "
   ]
  },
  {
   "cell_type": "markdown",
   "metadata": {},
   "source": [
    "Then get the corresponding test in `test_venue_builder` to pass."
   ]
  },
  {
   "cell_type": "markdown",
   "metadata": {},
   "source": [
    "### Trying it out"
   ]
  },
  {
   "cell_type": "markdown",
   "metadata": {},
   "source": [
    "Next, let's try to run our code to populate our development database.  Take a look at the `manage.py` file, and then call the run function.\n",
    "\n",
    "> You may run into an error.\n",
    "```python\n",
    " File \"manage.py\", line 13, in run\n",
    "    venue = builder.run(conn, cursor)\n",
    "  File \"foursquare-adapter-flask/backend/api/adapters/venue_builder.py\", line 21, in run\n",
    "    attr = self.select_attributes()\n",
    "  File \"foursquare-adapter-flask/backend/api/adapters/venue_builder.py\", line 10, in select_attributes\n",
    "    price = self.response_venue['price']['tier']\n",
    "KeyError: 'price'\n",
    "```"
   ]
  },
  {
   "cell_type": "markdown",
   "metadata": {},
   "source": [
    "The problem is likely that when we pull the venues from the API, we are sometimes getting back a response where there is no price key.  At that point, we try to access a `price` key that doesn't exist giving us our key error."
   ]
  },
  {
   "cell_type": "code",
   "execution_count": 1,
   "metadata": {},
   "outputs": [
    {
     "ename": "KeyError",
     "evalue": "'price'",
     "output_type": "error",
     "traceback": [
      "\u001b[0;31m---------------------------------------------------------------------------\u001b[0m",
      "\u001b[0;31mKeyError\u001b[0m                                  Traceback (most recent call last)",
      "\u001b[0;32m/var/folders/kx/pltjhhp51mv3hjlcsp0dwlfw0000gn/T/ipykernel_42782/3356581087.py\u001b[0m in \u001b[0;36m<module>\u001b[0;34m\u001b[0m\n\u001b[1;32m      1\u001b[0m \u001b[0mresponse_venue\u001b[0m \u001b[0;34m=\u001b[0m \u001b[0;34m{\u001b[0m\u001b[0;34m'name'\u001b[0m\u001b[0;34m:\u001b[0m \u001b[0;34m'Los Tacos'\u001b[0m\u001b[0;34m}\u001b[0m\u001b[0;34m\u001b[0m\u001b[0;34m\u001b[0m\u001b[0m\n\u001b[1;32m      2\u001b[0m \u001b[0;34m\u001b[0m\u001b[0m\n\u001b[0;32m----> 3\u001b[0;31m \u001b[0mresponse_venue\u001b[0m\u001b[0;34m[\u001b[0m\u001b[0;34m'price'\u001b[0m\u001b[0;34m]\u001b[0m\u001b[0;34m\u001b[0m\u001b[0;34m\u001b[0m\u001b[0m\n\u001b[0m",
      "\u001b[0;31mKeyError\u001b[0m: 'price'"
     ]
    }
   ],
   "source": [
    "response_venue = {'name': 'Los Tacos'}\n",
    "\n",
    "response_venue['price']"
   ]
  },
  {
   "cell_type": "markdown",
   "metadata": {},
   "source": [
    "Instead, we can use the Python [get](https://python-reference.readthedocs.io/en/latest/docs/dict/get.html) method, which does not throw an error when we try to select a key that does not exist."
   ]
  },
  {
   "cell_type": "markdown",
   "metadata": {},
   "source": [
    "Update the code to the following to fix the error:\n",
    "\n",
    "```python\n",
    "price = self.response_venue.get('price', {'tier': None}).get('tier', None)\n",
    "```\n",
    "\n",
    "Then run the `run` function in the `manage.py` file again."
   ]
  },
  {
   "cell_type": "markdown",
   "metadata": {},
   "source": [
    "Query the development database to confirm that we now have loaded venues into the datatbase."
   ]
  },
  {
   "cell_type": "markdown",
   "metadata": {},
   "source": [
    "### Setting up the Flask Application"
   ]
  },
  {
   "cell_type": "markdown",
   "metadata": {},
   "source": [
    "Now that we have loaded some data into our database, the next step is to set up a flask API that allows users to query that database.  \n",
    "\n",
    "Define a `create_app` function in the `api/__init__.py` file, and set an root url `/` that returns the text `foursquare api`.\n",
    "\n",
    "Call the `create_app` function from a `run.py` and boot up the flask application, and visit the root url."
   ]
  },
  {
   "cell_type": "markdown",
   "metadata": {},
   "source": [
    "Then create routes for the index and show routes of a venue.\n",
    "\n",
    "> Use the functions defined in the `lib/db/orm.py` file to query the database."
   ]
  },
  {
   "cell_type": "markdown",
   "metadata": {},
   "source": [
    "When it's working, we should see something like the following when we visit the `/venues` url:"
   ]
  },
  {
   "cell_type": "markdown",
   "metadata": {},
   "source": [
    "<img src=\"./vens.png\" width=\"40%\">"
   ]
  },
  {
   "cell_type": "markdown",
   "metadata": {},
   "source": [
    "And we should also see the following if we visit a particular venue:"
   ]
  },
  {
   "cell_type": "markdown",
   "metadata": {},
   "source": [
    "<img src=\"./venue.png\" width=\"40%\">"
   ]
  },
  {
   "cell_type": "markdown",
   "metadata": {},
   "source": [
    "Run the tests and confirm that the tests in the `test_app.py` file pass."
   ]
  },
  {
   "cell_type": "markdown",
   "metadata": {},
   "source": [
    "### Fixing Duplicate Values"
   ]
  },
  {
   "cell_type": "markdown",
   "metadata": {},
   "source": [
    "Now there is one error that we should take care of, and that is that when we call the `run` function in `manage.py`, while it will properly pull data from the API, it is susceptible to duplicating venues in our database."
   ]
  },
  {
   "cell_type": "markdown",
   "metadata": {},
   "source": [
    "Write a class function called `Venue.find_by_foursquare_id`, and then use this method to only create a venue if a venue with that foursquare id does not already exist. \n",
    "\n",
    "Confirm that the corresponding test in `venue_builder` passes."
   ]
  },
  {
   "cell_type": "markdown",
   "metadata": {},
   "source": [
    "### Cleaning up "
   ]
  },
  {
   "cell_type": "markdown",
   "metadata": {},
   "source": [
    "Now if we look at the client module, we'll see that we are currently hardcoding our `CLIENT_ID`, `CLIENT_SECRET`, and `DATE` keys.  This is not a good idea.  \n",
    "\n",
    "Instead let's use the same pattern we used for our database constants.  That is, specify the keys and values in the `.env` file, then load these into the settings modules, and import this into the `client` module."
   ]
  },
  {
   "cell_type": "markdown",
   "metadata": {},
   "source": [
    "Update the code and confirm that all of the tests still pass."
   ]
  }
 ],
 "metadata": {
  "kernelspec": {
   "display_name": "Python 3 (ipykernel)",
   "language": "python",
   "name": "python3"
  },
  "language_info": {
   "codemirror_mode": {
    "name": "ipython",
    "version": 3
   },
   "file_extension": ".py",
   "mimetype": "text/x-python",
   "name": "python",
   "nbconvert_exporter": "python",
   "pygments_lexer": "ipython3",
   "version": "3.9.7"
  }
 },
 "nbformat": 4,
 "nbformat_minor": 4
}
